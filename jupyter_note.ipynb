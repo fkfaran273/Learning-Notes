{
 "cells": [
  {
   "cell_type": "markdown",
   "metadata": {},
   "source": [
    "# 🚀 My Tech Learning Notebook\n",
    "\n",
    "## 1️⃣ Python Basics\n",
    "Python is a powerful programming language for **data science, web development, and automation**.\n"
   ]
  }
 ],
 "metadata": {
  "language_info": {
   "name": "python"
  }
 },
 "nbformat": 4,
 "nbformat_minor": 2
}
