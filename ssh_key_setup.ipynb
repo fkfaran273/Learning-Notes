{
 "cells": [
  {
   "cell_type": "markdown",
   "metadata": {},
   "source": [
    "\n",
    "<!-- This command generates a new SSH key pair using the RSA algorithm with a key size of 4096 bits. -->\n",
    "<!-- The -C flag adds a label (comment) to the key, typically an email address for identification. -->\n",
    "# generate if not already generated\n",
    "ssh-keygen -t rsa -b 4096 -C \"your-email@example.com\"\n",
    "\n",
    "\n",
    "# Start the SSH agent (Run this in PowerShell as Administrator):\n",
    "> Get-Service ssh-agent | Set-Service -StartupType Automatic\n",
    "> Start-Service ssh-agent\n",
    "\n",
    "\n",
    "# Add your SSH key to the agent:\n",
    "#  If successful, it will show: Identity added: C:\\Users\\YourUser\\.ssh\\id_rsa (your-email@example.com)\n",
    "\n",
    "> ssh-add C:\\Users\\YourUser\\.ssh\\id_rsa\n",
    "\n",
    "\n",
    "\n",
    "# Copy the SSH key to your clipboard after generating through below command:\n",
    "# 2️ Select the key and copy it.\n",
    "# Go to GitHub → Click on your profile (top-right corner) → Settings.\n",
    "# Go to SSH and GPG keys → Click New SSH Key.\n",
    "# Paste your SSH key and Save it.\n",
    "# ✅ Your SSH key is now added to GitHub! 🎉\n",
    "\n",
    "> cat ~/.ssh/id_rsa.pub\n",
    "\n",
    "\n",
    "# Test SSH Connection\n",
    "# if success it will show:\n",
    " <!-- Hi fkfaran273! You've successfully authenticated, but GitHub does not provide shell access. -->\n",
    "> ssh -T git@github.com\n",
    "\n",
    "<!-- // This command appends the SSH public key of GitHub's server to the known_hosts file.\n",
    "// It ensures that the server's key is recognized and trusted, preventing man-in-the-middle attacks\n",
    "// when connecting to GitHub via SSH. -->\n",
    "ssh-keyscan github.com >> ~/.ssh/known_hosts"
   ]
  }
 ],
 "metadata": {
  "language_info": {
   "name": "python"
  }
 },
 "nbformat": 4,
 "nbformat_minor": 2
}
