{
 "cells": [
  {
   "cell_type": "markdown",
   "metadata": {},
   "source": [
    "# 🚀 SSH Key Setup for GitHub (All-in-One)  \n",
    "\n",
    "## 1️⃣ Generate SSH Key (If Not Already Generated)  \n",
    "```bash\n",
    "ssh-keygen -t rsa -b 4096 -C \"your-email@example.com\"\n",
    "Get-Service ssh-agent | Set-Service -StartupType Automatic\n",
    "Start-Service ssh-agent\n"
   ]
  }
 ],
 "metadata": {
  "language_info": {
   "name": "python"
  }
 },
 "nbformat": 4,
 "nbformat_minor": 2
}
